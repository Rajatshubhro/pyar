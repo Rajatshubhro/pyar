{
 "cells": [
  {
   "cell_type": "code",
   "execution_count": 1,
   "metadata": {},
   "outputs": [],
   "source": [
    "from rdkit import Chem\n",
    "import torch\n",
    "torch.backends.cuda.matmul.allow_tf32 = False\n",
    "torch.backends.cudnn.allow_tf32 = False"
   ]
  },
  {
   "cell_type": "code",
   "execution_count": 2,
   "metadata": {},
   "outputs": [
    {
     "name": "stdout",
     "output_type": "stream",
     "text": [
      "cpu\n"
     ]
    }
   ],
   "source": [
    "# device = torch.device('cuda:1' if torch.cuda.is_available() else 'cpu')\n",
    "device = torch.device('cpu')\n",
    "print(device)\n",
    "in_path = '/scratch/20cy91r19/bitbucket/afirxn/afirxn/AIMNet2/data/examples.sdf'\n",
    "\n",
    "aimnet2 = torch.jit.load('/scratch/20cy91r19/bitbucket/afirxn/afirxn/AIMNet2/models/aimnet2_wb97m-d3_ens.jpt', map_location=device)\n",
    "aimnet2_0 = torch.jit.load('/scratch/20cy91r19/bitbucket/afirxn/afirxn/AIMNet2/models/aimnet2_wb97m-d3_0.jpt', map_location=device)"
   ]
  },
  {
   "cell_type": "code",
   "execution_count": 3,
   "metadata": {},
   "outputs": [
    {
     "name": "stdout",
     "output_type": "stream",
     "text": [
      "aimnet2 energy:  tensor([-10518.2732], dtype=torch.float64)\n"
     ]
    }
   ],
   "source": [
    "def sdf2aimnet_input(sdf: str, device=torch.device('cpu')) -> dict:\n",
    "    \"\"\"Converts sdf to aimnet input, assuming the sdf has only 1 conformer.\"\"\"\n",
    "    mol = next(Chem.SDMolSupplier(sdf, removeHs=False))\n",
    "    conf = mol.GetConformer()\n",
    "    coord = torch.tensor(conf.GetPositions(), device=device).unsqueeze(0)\n",
    "    numbers = torch.tensor([atom.GetAtomicNum() for atom in mol.GetAtoms()], device=device).unsqueeze(0)\n",
    "    charge = torch.tensor([Chem.GetFormalCharge(mol)], device=device, dtype=torch.float)\n",
    "    return dict(coord=coord, numbers=numbers, charge=charge)\n",
    "\n",
    "\n",
    "dct = sdf2aimnet_input(in_path, device=device)\n",
    "dct['coord'].requires_grad_(True)\n",
    "aimnet2_out = aimnet2(dct)\n",
    "print('aimnet2 energy: ', aimnet2_out['energy'])  # there is no gradient for energy"
   ]
  },
  {
   "cell_type": "code",
   "execution_count": 4,
   "metadata": {},
   "outputs": [
    {
     "name": "stdout",
     "output_type": "stream",
     "text": [
      "coord torch.Size([1, 20, 3])\n",
      "numbers torch.Size([1, 20])\n",
      "charge torch.Size([1])\n",
      "charges torch.Size([1, 20])\n",
      "charges_std torch.Size([1, 20])\n",
      "energy torch.Size([1])\n",
      "energy_std torch.Size([1])\n",
      "forces torch.Size([1, 20, 3])\n",
      "forces_std torch.Size([1, 20, 3])\n"
     ]
    }
   ],
   "source": [
    "for key, val in aimnet2_out.items():\n",
    "    print(key, val.shape)"
   ]
  },
  {
   "cell_type": "code",
   "execution_count": 5,
   "metadata": {},
   "outputs": [
    {
     "name": "stdout",
     "output_type": "stream",
     "text": [
      "aimnet2 energy:  tensor([-10518.2732], dtype=torch.float64)\n"
     ]
    }
   ],
   "source": [
    "print('aimnet2 energy: ', aimnet2_out['energy'])"
   ]
  },
  {
   "cell_type": "code",
   "execution_count": 6,
   "metadata": {},
   "outputs": [
    {
     "name": "stdout",
     "output_type": "stream",
     "text": [
      "aimnet2_0 energy:  tensor([-10518.2655], dtype=torch.float64, grad_fn=<AddBackward0>)\n"
     ]
    }
   ],
   "source": [
    "aimnet2_0out = aimnet2_0(dct)\n",
    "print('aimnet2_0 energy: ', aimnet2_0out['energy'])  # there is gradient function for energy"
   ]
  },
  {
   "cell_type": "code",
   "execution_count": 7,
   "metadata": {},
   "outputs": [
    {
     "name": "stdout",
     "output_type": "stream",
     "text": [
      "tensor([[[ 0.0198,  0.1783, -0.0657],\n",
      "         [ 0.0356, -0.2943,  0.0706],\n",
      "         [-0.0442,  0.0613,  0.1326],\n",
      "         [ 0.1627,  0.1406,  0.0440],\n",
      "         [-0.0146, -0.1142, -0.1864],\n",
      "         [-0.1602,  0.0205, -0.0834],\n",
      "         [-0.3099, -0.3564, -0.0733],\n",
      "         [ 0.0133, -0.1086,  0.0467],\n",
      "         [-0.1510,  0.0309, -0.0501],\n",
      "         [-0.1301,  0.0278, -0.1938],\n",
      "         [ 0.1394,  0.1691, -0.0113],\n",
      "         [ 0.1099, -0.1648, -0.1143],\n",
      "         [-0.0429, -0.0140, -0.2180],\n",
      "         [-0.1936,  0.0702,  0.0784],\n",
      "         [ 0.0217, -0.1661,  0.0584],\n",
      "         [ 0.1824,  0.0953,  0.2214],\n",
      "         [-0.1041,  0.1576,  0.1365],\n",
      "         [ 0.0342,  0.0051,  0.1738],\n",
      "         [ 0.1627, -0.0603, -0.0591],\n",
      "         [ 0.2689,  0.3220,  0.0929]]], dtype=torch.float64,\n",
      "       grad_fn=<NegBackward0>)\n"
     ]
    }
   ],
   "source": [
    "forces = -torch.autograd.grad(aimnet2_0out['energy'], dct['coord'], create_graph=True)[0]\n",
    "print(forces)"
   ]
  }
 ],
 "metadata": {
  "kernelspec": {
   "display_name": "base",
   "language": "python",
   "name": "python3"
  },
  "language_info": {
   "codemirror_mode": {
    "name": "ipython",
    "version": 3
   },
   "file_extension": ".py",
   "mimetype": "text/x-python",
   "name": "python",
   "nbconvert_exporter": "python",
   "pygments_lexer": "ipython3",
   "version": "3.7.12"
  }
 },
 "nbformat": 4,
 "nbformat_minor": 2
}
